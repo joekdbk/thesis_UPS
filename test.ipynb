{
 "cells": [
  {
   "cell_type": "code",
   "execution_count": 6,
   "id": "6e6e0b79",
   "metadata": {},
   "outputs": [],
   "source": [
    "import analysis_funtions as af\n",
    "\n",
    "#create a list of file paths found in \"SEL_events07232025_csv\"\n",
    "csv_folder = \"SEL_events07232025_csv\"\n",
    "csv_files = af.get_csv_file_paths(csv_folder)\n",
    "\n",
    "#will insert for loop here later\n",
    "\n",
    "file = \"SEL_events07232025_csv/CEV_10031_R.csv\"\n",
    "df = af.raw_csv_to_df_add_rms(file)\n",
    "#def plot_and_save(df,fault_time,num_cycles_pre,num_cycles_post,voltages,rms_voltages, currents, rms_currents):\n",
    "\n"
   ]
  },
  {
   "cell_type": "code",
   "execution_count": 8,
   "id": "8803446e",
   "metadata": {},
   "outputs": [
    {
     "name": "stdout",
     "output_type": "stream",
     "text": [
      "99.2\n",
      "-0.8\n"
     ]
    }
   ],
   "source": [
    "ia = df['IA(A)']\n",
    "print(max(ia))\n",
    "print(min(ia))\n"
   ]
  },
  {
   "cell_type": "code",
   "execution_count": 12,
   "id": "4ff1b30d",
   "metadata": {},
   "outputs": [
    {
     "name": "stdout",
     "output_type": "stream",
     "text": [
      "Available columns: ['IA(A)', 'IB(A)', 'IC(A)', 'IN(A)', 'IG(A)', 'VA(V)', 'VB(V)', 'VC(V)', 'VS(V)', 'VDC(V)', 'LSENS1(%)', 'LSENS2(%)', 'LSENS3(%)', 'LSENS4(%)', '*', '*.1', '*.2', '*.3', 'FREQ']\n",
      "Converted IA(A): min=-170.0, max=170.0\n",
      "Converted IB(A): min=-150.0, max=152.0\n",
      "Converted IC(A): min=-149.0, max=157.0\n",
      "Converted VA(V): min=-319.0, max=317.0\n",
      "Converted VB(V): min=-291.0, max=291.0\n",
      "Converted VC(V): min=-295.0, max=290.0\n",
      "Calculating RMS for VA(V)\n",
      "Calculating RMS for VB(V)\n",
      "Calculating RMS for VC(V)\n",
      "Calculating RMS for IA(A)\n",
      "Calculating RMS for IB(A)\n",
      "Calculating RMS for IC(A)\n",
      "\n",
      "IA Current Stats:\n",
      "Min: -170.0\n",
      "Max: 170.0\n",
      "Data type: float64\n",
      "Is minimum less than -100? True\n"
     ]
    }
   ],
   "source": [
    "# Test the updated function\n",
    "import importlib\n",
    "importlib.reload(af)\n",
    "\n",
    "# Reload the data with the updated function\n",
    "file = \"SEL_events07232025_csv/CEV_10031_R.csv\"\n",
    "df_new = af.raw_csv_to_df_add_rms(file)\n",
    "\n",
    "# Check if IA current data is now correct\n",
    "if 'IA(A)' in df_new.columns:\n",
    "    ia_new = df_new['IA(A)']\n",
    "    print(f\"\\nIA Current Stats:\")\n",
    "    print(f\"Min: {ia_new.min()}\")\n",
    "    print(f\"Max: {ia_new.max()}\")\n",
    "    print(f\"Data type: {ia_new.dtype}\")\n",
    "    print(f\"Is minimum less than -100? {ia_new.min() < -100}\")\n",
    "else:\n",
    "    print(\"IA(A) column not found!\")"
   ]
  }
 ],
 "metadata": {
  "kernelspec": {
   "display_name": "Python 3",
   "language": "python",
   "name": "python3"
  },
  "language_info": {
   "codemirror_mode": {
    "name": "ipython",
    "version": 3
   },
   "file_extension": ".py",
   "mimetype": "text/x-python",
   "name": "python",
   "nbconvert_exporter": "python",
   "pygments_lexer": "ipython3",
   "version": "3.10.0"
  }
 },
 "nbformat": 4,
 "nbformat_minor": 5
}
